{
 "cells": [
  {
   "cell_type": "code",
   "execution_count": null,
   "id": "2603103e",
   "metadata": {},
   "outputs": [],
   "source": [
    "import os \n",
    "print(os.path.isfile(r\"input file path\"))"
   ]
  },
  {
   "cell_type": "code",
   "execution_count": null,
   "id": "88eb6f4a",
   "metadata": {},
   "outputs": [],
   "source": [
    "! pip install pydub\n",
    "! pip install static_ffmpeg\n",
    "! pip install pyaudio\n",
    "! pip install librosa\n",
    "! pip install torch\n",
    "! pip install transformers"
   ]
  },
  {
   "cell_type": "code",
   "execution_count": 5,
   "id": "cd0d97c7",
   "metadata": {},
   "outputs": [],
   "source": [
    "# since the model take only wav file as input , so we'll convert the audio format to wav using pydub\n",
    "\n",
    "from pydub import AudioSegment\n",
    "from pydub.playback import play\n",
    "import static_ffmpeg\n",
    "\n",
    "static_ffmpeg.add_paths()\n",
    "\n",
    "\n",
    "audio = AudioSegment.from_file(r\"<input file path>\")\n",
    "\n",
    "# if you want to convert the audio as whole uncomment the code below\n",
    "# audio.export(\"audio export path here\", format=\"wav\")\n",
    "\n",
    "# we'll split the audio in 3 minutes each to minimize the computational power used by model\n",
    "audio_length = len(audio) / (60 * 1000)\n",
    "\n",
    "split_marker = 180\n",
    "split_audio = [audio[:180 * 1000]]\n",
    "\n",
    "for i in range(round(audio_length / (180 * 1000))):\n",
    "  split_audio.append(audio[split_marker * 1000:(split_marker + 180) * 1000])\n",
    "  split_marker += 180\n",
    "\n",
    "#it will create the file in audio dir, make sure to create audio dir in root folder\n",
    "\n",
    "count = 0\n",
    "for count, audio_sample in enumerate(split_audio):\n",
    "  count += 1\n",
    "  with open(f'audio/{count}_audi_file.wav', 'wb') as out_f:\n",
    "    audio_sample.export(out_f, format='wav')"
   ]
  },
  {
   "cell_type": "code",
   "execution_count": null,
   "id": "c24da00f",
   "metadata": {},
   "outputs": [],
   "source": [
    "import librosa\n",
    "import torch\n",
    "from transformers import Wav2Vec2ForCTC, Wav2Vec2Tokenizer\n",
    "import os\n",
    "\n",
    "# loading model and tokenizer\n",
    "tokenizer = Wav2Vec2Tokenizer.from_pretrained('facebook/wav2vec2-base-960h')\n",
    "model = Wav2Vec2ForCTC.from_pretrained('facebook/wav2vec2-base-960h')\n",
    "\n",
    "print('model loaded working on audio with length :', f'{\"{0:.2f}\".format(audio_length)}s')\n",
    "\n",
    "text_arr = []\n",
    "for i in range(len(split_audio)):\n",
    "  # loading audio in model from the audio dir\n",
    "  speech, rate = librosa.load(f'audio/{i+1}_audi_file.wav', sr=16000) \n",
    "  \n",
    "  input_values = tokenizer(speech, return_tensors='pt').input_values\n",
    "  with torch.no_grad():\n",
    "      logits = model(input_values).logits\n",
    "      \n",
    "  predicted_ids = torch.argmax(logits, dim=-1)\n",
    "  transcription = tokenizer.batch_decode(predicted_ids)[0]\n",
    "  text_arr.append(transcription)\n",
    "  \n",
    "final_speech = ''\n",
    "for speech in text_arr:\n",
    "  final_speech += speech\n",
    "print(final_speech)"
   ]
  }
 ],
 "metadata": {
  "kernelspec": {
   "display_name": "Python 3",
   "language": "python",
   "name": "python3"
  },
  "language_info": {
   "codemirror_mode": {
    "name": "ipython",
    "version": 3
   },
   "file_extension": ".py",
   "mimetype": "text/x-python",
   "name": "python",
   "nbconvert_exporter": "python",
   "pygments_lexer": "ipython3",
   "version": "3.8.8"
  }
 },
 "nbformat": 4,
 "nbformat_minor": 5
}
